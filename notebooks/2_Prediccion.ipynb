{
 "cells": [
  {
   "cell_type": "markdown",
   "id": "5716e9b2",
   "metadata": {},
   "source": [
    "## 2)  Creación de dataset prediccion\n",
    "\n",
    "En esta etapa generamos las imágenes que utilizará el modelo para el entrenamiento y la predicción. \n",
    "\n",
    "Utilizando las imágenes generadas en el paso anterior y la información vectorial de la ubicación de los asentamientos, generamos el dataset utilizado luego por el modelo de ML. Este dataset se genera con el formato necesario para el modelo.\n"
   ]
  },
  {
   "cell_type": "markdown",
   "id": "bad0949c",
   "metadata": {},
   "source": [
    "### Instalacion de pysatproc (correr solo una vez)"
   ]
  },
  {
   "cell_type": "code",
   "execution_count": null,
   "id": "d615d3e0",
   "metadata": {},
   "outputs": [],
   "source": [
    "#!pip install -U pysatproc"
   ]
  },
  {
   "cell_type": "markdown",
   "id": "a907234f",
   "metadata": {},
   "source": [
    "### Variables para configuracion de satproc_extract_chips\n",
    "Definimos el la configuracion para la predicción. Debemos pasar la ruta a las imagenes del dataset de prediccion y al modelo."
   ]
  },
  {
   "cell_type": "code",
   "execution_count": null,
   "id": "715d6594",
   "metadata": {},
   "outputs": [],
   "source": [
    "\n",
    "path_to_files = \"../images-S2/zona_4/2021-01-01_2021-03-01/*.tif\"             # ruta a las imagenes satelitales\n",
    "output_folder = \"../dataset/data_predict/zona_4/v2/160_80/\"                   # ruta donde se van a dejar las imagenes porcesadas\n",
    "vector_aoi_file_path = \"../data/shp/predict_aoi_zona4_buff5km_4326.geojson\"   # archivo geojson con el area de interes                       \n",
    "size = 160                                                                    # stamaño (pixeles) de las imagenes que se van a generar\n",
    "step_size = size                                                              # tamaño de la ventana"
   ]
  },
  {
   "cell_type": "markdown",
   "id": "ec993a8e",
   "metadata": {},
   "source": [
    "### Generación del dataset para predecir"
   ]
  },
  {
   "cell_type": "code",
   "execution_count": null,
   "id": "5509cc35",
   "metadata": {
    "scrolled": true
   },
   "outputs": [],
   "source": [
    "#Creo dataset para prediccion (solo imagenes)\n",
    "!satproc_extract_chips $path_to_files \\\n",
    "    -o $output_folder \\\n",
    "    --aoi $vector_aoi_file_path \\\n",
    "    --size $size \\\n",
    "    --step-size $step_size \\\n",
    "    --rescale \\\n",
    "    --rescale-mode s2_rgb_extra --lower-cut 1 --upper-cut 100\n"
   ]
  },
  {
   "cell_type": "markdown",
   "id": "f5d1a62f",
   "metadata": {},
   "source": [
    "# 3) Prediccion"
   ]
  },
  {
   "cell_type": "markdown",
   "id": "17762eef",
   "metadata": {},
   "source": [
    "### Librerias\n",
    "Descargamos la librería os para la navegación de archivos, y unetseg para la red neuronal"
   ]
  },
  {
   "cell_type": "code",
   "execution_count": null,
   "id": "ac060880",
   "metadata": {},
   "outputs": [],
   "source": [
    "#importo librerias\n",
    "from unetseg.predict import PredictConfig, predict\n",
    "from unetseg.evaluate import plot_data_results\n",
    "import os"
   ]
  },
  {
   "cell_type": "markdown",
   "id": "49d14b5d",
   "metadata": {},
   "source": [
    "### Variables para configuracion de la predicción"
   ]
  },
  {
   "cell_type": "code",
   "execution_count": null,
   "id": "7e43f4bd",
   "metadata": {},
   "outputs": [],
   "source": [
    "zona='zona_4'\n",
    "version = 'v2'\n",
    "size_stepsize='160_80'\n",
    "\n",
    "predict_config = PredictConfig(\n",
    "                                    images_path = os.path.join('../dataset/data_predict',zona,version,size_stepsize),\n",
    "                                    results_path = os.path.join('../dataset/data_results',zona,version,size_stepsize),\n",
    "                                    batch_size=16,\n",
    "                                    model_path='../data/weights/model/zona_3UNet_techo_4D_spe100_img160_size160_sz80.h5',  #  ruta al modelo (.h5)\n",
    "                                    height=160,\n",
    "                                    width=160,\n",
    "                                    n_channels=4,\n",
    "                                    n_classes=1,\n",
    "                                    class_weights=[1])"
   ]
  },
  {
   "cell_type": "markdown",
   "id": "962be2e5",
   "metadata": {},
   "source": [
    "### Corro la prediccion"
   ]
  },
  {
   "cell_type": "code",
   "execution_count": null,
   "id": "fa7e2d6b",
   "metadata": {},
   "outputs": [],
   "source": [
    "predict(predict_config)"
   ]
  },
  {
   "cell_type": "markdown",
   "id": "d6a6ad72-af31-4736-9a30-64c06e2171bc",
   "metadata": {},
   "source": [
    "Podemos ver algunos resultados preliminales de la prediccion"
   ]
  },
  {
   "cell_type": "markdown",
   "id": "84b949ee",
   "metadata": {},
   "source": [
    "## 4) Post-procesamiento\n",
    "Post-procesamiento que fueron aplicados sobre los resultados de las predicciones del modelo de U-Net."
   ]
  },
  {
   "cell_type": "markdown",
   "id": "bddcea7f",
   "metadata": {},
   "source": [
    "### Librerias"
   ]
  },
  {
   "cell_type": "code",
   "execution_count": null,
   "id": "e9c5b7ac",
   "metadata": {},
   "outputs": [],
   "source": [
    "from satproc.postprocess.polygonize import polygonize \n",
    "from satproc.filter import filter_by_max_prob"
   ]
  },
  {
   "cell_type": "markdown",
   "id": "642ff302",
   "metadata": {},
   "source": [
    "### Filtramos las predicciones con probabilidad mayor al parametro y poligonos mayor a una superficie determinada\n",
    "\n",
    "Aplica una rutina de poligonización sobre los resultados de la predicción del modelo y genera un archivo vectorial en formato GeoPackage (GPKG). La rutina aplica `gdal_polygonize.py` a cada chip resultado generando un GPKG para cada chip, y luego une todos estos archivos en uno solo, de manera eficiente.\n",
    "\n",
    "Antes de unirlos también aplica un umbral sobre los valores de los rásteres, que en este caso representan la probabilidad (valores entre 0 y 1).\n",
    "\n",
    "Como último paso, filtramos aquellos polígonos de area inferior a 500 m², dado que consideramos que son falsos positivos. Para esto utilizamos `ogr2ogr` y una consulta SQL. El resultado se guarda en `dataset/data_results/`"
   ]
  },
  {
   "cell_type": "code",
   "execution_count": null,
   "id": "4da8d234",
   "metadata": {},
   "outputs": [],
   "source": [
    "parametro_prob=0.3 # parametro a filtrar\n",
    "min_area = 500     # superficie minima a fitrar\n",
    "\n",
    "# creamos una carpeta\n",
    "carpeta = os.path.join('../dataset/data_results',zona,version,size_stepsize)+'_filtered_up'+str(parametro_prob).split('.')[0]+str(parametro_prob).split('.')[1]+'/'\n",
    "!mkdir -p $carpeta\n",
    "\n",
    "# filtramos por la probabilidad \"parametro_prob\"\n",
    "filter_by_max_prob(input_dir = os.path.join('../dataset/data_results',zona,version,size_stepsize),\n",
    "                   output_dir = os.path.join('../dataset/data_results',zona,version,size_stepsize)+'_filtered_up'+str(parametro_prob).split('.')[0]+str(parametro_prob).split('.')[1]+'/',\n",
    "                   threshold = parametro_prob) #Probar ≠ prob umbrales, por ahi, empezar con 0.1\n",
    "\n",
    "\n",
    "# generamos los poligonos\n",
    "input_path =  os.path.join('../dataset/data_results',zona,version,size_stepsize)+'_filtered_up'+str(parametro_prob).split('.')[0]+str(parametro_prob).split('.')[1]+'/'\n",
    "output_path = os.path.join('../dataset/data_results',zona,version+'_'+size_stepsize+'_'+zona+'_thr_'+str(parametro_prob).split('.')[0]+str(parametro_prob).split('.')[1]+'.gpkg')\n",
    "polygonize(threshold=parametro_prob,\n",
    "          # value=100,\n",
    "           input_dir=input_path,\n",
    "           output=output_path)\n",
    "\n",
    "# pasamos a proyeccion utm para poder usar metros cuadrados como medida de superficie\n",
    "src_file = os.path.join('../dataset/data_results',zona,version+'_'+size_stepsize+'_'+zona+'_thr_'+str(parametro_prob).split('.')[0]+str(parametro_prob).split('.')[1]+'.gpkg')\n",
    "dst_file = os.path.join('../dataset/data_results',zona,version+'_'+size_stepsize+'_'+zona+'_thr_'+str(parametro_prob).split('.')[0]+str(parametro_prob).split('.')[1]+'_utm.gpkg')\n",
    "!ogr2ogr -s_srs EPSG:4326 -t_srs EPSG:32720 -f 'ESRI Shapefile' $dst_file $src_file #lo puedo abrir en QGIS como archivo vectorial\n",
    "        \n",
    "        \n",
    "# filtramos los que sean mas chico que el parametro \"min_area\"\n",
    "input_path = os.path.join('../dataset/data_results',zona,version+'_'+size_stepsize+'_'+zona+'_thr_'+str(parametro_prob).split('.')[0]+str(parametro_prob).split('.')[1]+'_utm.gpkg')\n",
    "output_path = input_path.replace(\".gpkg\", \"_up\"+str(min_area)+\".gpkg\")    \n",
    "tabla = input_path.split(\"/\",-1)[-1].strip('.gpkg').strip('_utm')\n",
    "sql = \"SELECT * FROM \"+tabla+\" m WHERE ST_Area(geometry) > \"+str(min_area)        \n",
    "\n",
    "!ogr2ogr -t_srs EPSG:32720 -f \"GPKG\" -sql \"$sql\" -dialect SQLITE -nln results $output_path $input_path\n",
    "\n",
    "print('Archivo generado correctamente',output_path)"
   ]
  }
 ],
 "metadata": {
  "kernelspec": {
   "display_name": "Python 3",
   "language": "python",
   "name": "python3"
  },
  "language_info": {
   "codemirror_mode": {
    "name": "ipython",
    "version": 3
   },
   "file_extension": ".py",
   "mimetype": "text/x-python",
   "name": "python",
   "nbconvert_exporter": "python",
   "pygments_lexer": "ipython3",
   "version": "3.9.5"
  }
 },
 "nbformat": 4,
 "nbformat_minor": 5
}
